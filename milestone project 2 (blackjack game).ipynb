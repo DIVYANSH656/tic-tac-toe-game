{
 "cells": [
  {
   "cell_type": "code",
   "execution_count": 15,
   "metadata": {},
   "outputs": [],
   "source": [
    "import random\n",
    "suits=['Hearts','Club','Diamond','Spade']\n",
    "ranks = ('Two', 'Three', 'Four', 'Five', 'Six', 'Seven', 'Eight', 'Nine', 'Ten', 'Jack', 'Queen', 'King', 'Ace')\n",
    "values = {'Two':2, 'Three':3, 'Four':4, 'Five':5, 'Six':6, 'Seven':7, 'Eight':8, \n",
    "            'Nine':9, 'Ten':10, 'Jack':10, 'Queen':10, 'King':10, 'Ace':11}"
   ]
  },
  {
   "cell_type": "code",
   "execution_count": 16,
   "metadata": {},
   "outputs": [],
   "source": [
    "class Card:\n",
    "    def __init__(self,rank,suit):\n",
    "        self.rank = rank\n",
    "        self.suit = suit\n",
    "        self.value = values[self.rank]\n",
    "    def __str__(self):\n",
    "        return (self.rank+\" of \"+self.suit)\n",
    "    "
   ]
  },
  {
   "cell_type": "code",
   "execution_count": 17,
   "metadata": {},
   "outputs": [],
   "source": [
    "class Deck:\n",
    "    def __init__(self):\n",
    "        self.all_cards = []\n",
    "        for suit in suits:\n",
    "            for rank in ranks:\n",
    "                created_card = Card(rank,suit)\n",
    "                self.all_cards.append(created_card)\n",
    "    def shuffle(self):\n",
    "        random.shuffle(self.all_cards)\n",
    "    def deal_one(self):\n",
    "        return self.all_cards.pop(0)"
   ]
  },
  {
   "cell_type": "code",
   "execution_count": 18,
   "metadata": {},
   "outputs": [],
   "source": [
    "class Hand:\n",
    "    def __init__(self):\n",
    "        self.cards_in_hand=[]\n",
    "        self.value = 0\n",
    "        self.aces = 0\n",
    "    def add_cards(self,card):\n",
    "        self.cards_in_hand.append(card)\n",
    "        self.value += values[card.rank]\n",
    "        if card.rank == 'Ace':\n",
    "            self.aces += 1 \n",
    "    def adjust_ace(self):\n",
    "        if self.value > 21 and self.aces > 0:\n",
    "            self.value -= 10\n",
    "            self.aces -= 1\n",
    "    \n",
    "        "
   ]
  },
  {
   "cell_type": "code",
   "execution_count": 19,
   "metadata": {},
   "outputs": [
    {
     "name": "stdout",
     "output_type": "stream",
     "text": [
      "Six of Hearts\n",
      "Nine of Club\n",
      "Two of Diamond\n",
      "17\n"
     ]
    }
   ],
   "source": [
    "test_deck = Deck()\n",
    "test_deck.shuffle()\n",
    "test_player = Hand()\n",
    "for i in range(3):\n",
    "    drawn_card = test_deck.deal_one()\n",
    "    test_player.add_cards(drawn_card)\n",
    "    print(drawn_card)\n",
    "test_player.adjust_ace()\n",
    "print(test_player.value)"
   ]
  },
  {
   "cell_type": "code",
   "execution_count": 20,
   "metadata": {},
   "outputs": [],
   "source": [
    "class Chips :\n",
    "    def __init__(self):\n",
    "        self.total = 100\n",
    "        self.bet = 0\n",
    "    def win_bet(self):\n",
    "        self.total += self.bet\n",
    "    def lose_bet(self):\n",
    "        self.total -= self.bet"
   ]
  },
  {
   "cell_type": "code",
   "execution_count": 21,
   "metadata": {},
   "outputs": [],
   "source": [
    "def take_bet(chips):\n",
    "    while True:\n",
    "        try :\n",
    "            chips.bet = int(input(\"enter bet you want to place \"))\n",
    "        except:\n",
    "            print(\"enter a integer\")\n",
    "        else:\n",
    "            if chips.bet > chips.total:\n",
    "                print(\"you have gone out of money\")\n",
    "            else:\n",
    "                break\n",
    "            "
   ]
  },
  {
   "cell_type": "code",
   "execution_count": null,
   "metadata": {},
   "outputs": [],
   "source": []
  },
  {
   "cell_type": "code",
   "execution_count": 22,
   "metadata": {},
   "outputs": [],
   "source": [
    "def hit(deck,hand):\n",
    "    hand.add_cards(deck.deal_one())\n",
    "    hand.adjust_ace()"
   ]
  },
  {
   "cell_type": "code",
   "execution_count": 23,
   "metadata": {},
   "outputs": [],
   "source": [
    "def hit_or_stand(deck,hand):\n",
    "    global playing\n",
    "    \n",
    "    while True:\n",
    "        x = input(\"enter h to hit or s to stand \")\n",
    "        if x[0].lower() == 'h':\n",
    "            hit(deck,hand)\n",
    "        \n",
    "        elif x[0].lower() == 's':\n",
    "            print(\"now player is standing and its dealer's turn now\")\n",
    "            playing = False \n",
    "        \n",
    "        else:\n",
    "            print(\"please enter h or s only\")\n",
    "            continue\n",
    "        \n",
    "        break"
   ]
  },
  {
   "cell_type": "code",
   "execution_count": 24,
   "metadata": {},
   "outputs": [],
   "source": [
    "def player_bust(player,dealer,chips):\n",
    "    print(\"player bust\")\n",
    "    print(\"\\n\")\n",
    "    chips.lose_bet()\n",
    "def player_win(player,dealer,chips):\n",
    "    print(\"player won\")\n",
    "    print(\"\\n\")\n",
    "    chips.win_bet()\n",
    "def dealer_bust(player,dealer,chips):\n",
    "    print(\"dealer bust\")\n",
    "    print(\"\\n\") \n",
    "    chips.win_bet()\n",
    "def dealer_win(player,dealer,chips):\n",
    "    print(\"dealer win\")\n",
    "    print(\"\\n\") \n",
    "    chips.lose_bet()\n",
    "def push(player,dealer):\n",
    "    print(\"it's a tie\")\n",
    "    print(\"\\n\")"
   ]
  },
  {
   "cell_type": "code",
   "execution_count": 25,
   "metadata": {},
   "outputs": [],
   "source": [
    "def show_some(player,dealer):\n",
    "    print(\"DEALER'S HAND :- \")\n",
    "    print(\"one card is hidden\")\n",
    "    print(dealer.cards_in_hand[1])\n",
    "    print(\"\\n\")\n",
    "    print(\"PLAYER'S HAND :-\")\n",
    "    for i in player.cards_in_hand:\n",
    "        print(i)\n",
    "    print(\"\\n\")"
   ]
  },
  {
   "cell_type": "code",
   "execution_count": 26,
   "metadata": {},
   "outputs": [],
   "source": [
    "def show_all(player,dealer):\n",
    "    print(\"DEALER'S HAND :- \")\n",
    "    print(\"\\n\")\n",
    "    for i in dealer.cards_in_hand:\n",
    "        print(i)\n",
    "    print(\"\\n\")\n",
    "    print (\"PLAYER'S HAND :- \")\n",
    "    for i in player.cards_in_hand:\n",
    "        print(i)\n",
    "    print(\"\\n\")"
   ]
  },
  {
   "cell_type": "code",
   "execution_count": null,
   "metadata": {},
   "outputs": [
    {
     "name": "stdout",
     "output_type": "stream",
     "text": [
      "welcome this is a blackjack game\n",
      "enter bet you want to place \n",
      "enter a integer\n",
      "enter bet you want to place 95\n",
      "DEALER'S HAND :- \n",
      "one card is hidden\n",
      "Four of Diamond\n",
      "\n",
      "\n",
      "PLAYER'S HAND :-\n",
      "King of Hearts\n",
      "Nine of Club\n",
      "\n",
      "\n",
      "enter h to hit or s to stand s\n",
      "now player is standing and its dealer's turn now\n",
      "DEALER'S HAND :- \n",
      "one card is hidden\n",
      "Four of Diamond\n",
      "\n",
      "\n",
      "PLAYER'S HAND :-\n",
      "King of Hearts\n",
      "Nine of Club\n",
      "\n",
      "\n",
      "DEALER'S HAND :- \n",
      "\n",
      "\n",
      "Eight of Hearts\n",
      "Four of Diamond\n",
      "Ace of Spade\n",
      "Three of Diamond\n",
      "Six of Diamond\n",
      "\n",
      "\n",
      "PLAYER'S HAND :- \n",
      "King of Hearts\n",
      "Nine of Club\n",
      "\n",
      "\n",
      "dealer bust\n",
      "\n",
      "\n",
      "total chips are 195\n",
      "do you want to play again y or n y\n",
      "welcome this is a blackjack game\n",
      "enter bet you want to place 192\n",
      "you have gone out of money\n"
     ]
    }
   ],
   "source": [
    "playing = True\n",
    "\n",
    "while True:\n",
    "    print(\"welcome this is a blackjack game\")\n",
    "    deck = Deck()\n",
    "    deck.shuffle()\n",
    "\n",
    "    player_hand = Hand()\n",
    "    dealer_hand = Hand()\n",
    "    \n",
    "    player_hand.add_cards(deck.deal_one())\n",
    "    player_hand.add_cards(deck.deal_one())\n",
    "    \n",
    "    dealer_hand.add_cards(deck.deal_one())\n",
    "    dealer_hand.add_cards(deck.deal_one())\n",
    "    \n",
    "    player_chips = Chips()\n",
    "    \n",
    "    take_bet(player_chips)\n",
    "    \n",
    "    show_some(player_hand,dealer_hand)\n",
    "    \n",
    "    while playing:\n",
    "        hit_or_stand(deck,player_hand)\n",
    "        \n",
    "        show_some(player_hand,dealer_hand)\n",
    "        \n",
    "        if player_hand.value > 21:\n",
    "            player_bust(player_hand,dealer_hand,player_chips)\n",
    "            \n",
    "            break   \n",
    "        if player_hand.value <= 21:\n",
    "            while dealer_hand.value < 17:\n",
    "                hit(deck,dealer_hand)\n",
    "        \n",
    "        show_all(player_hand,dealer_hand)\n",
    "        \n",
    "        if dealer_hand.value > 21:\n",
    "            dealer_bust(player_hand,dealer_hand,player_chips)\n",
    "            playing = False\n",
    "        elif dealer_hand.value > player_hand.value:\n",
    "            dealer_win(player_hand,dealer_hand,player_chips)\n",
    "            playing = False       \n",
    "        elif dealer_hand.value < player_hand.value:\n",
    "            player_win(player_hand,dealer_hand,player_chips)\n",
    "            playing = False        \n",
    "        else:\n",
    "            push(player_hand,dealer_hand)\n",
    "            playing = False       \n",
    "    print(\"total chips are {}\".format(player_chips.total))\n",
    "        \n",
    "    new_game = input(\"do you want to play again y or n \")\n",
    "    if new_game[0].lower() == 'y':\n",
    "        playing = True\n",
    "        continue\n",
    "    else:\n",
    "        print(\"thanks for playing\")\n",
    "        break"
   ]
  },
  {
   "cell_type": "code",
   "execution_count": null,
   "metadata": {},
   "outputs": [],
   "source": []
  },
  {
   "cell_type": "code",
   "execution_count": null,
   "metadata": {},
   "outputs": [],
   "source": []
  }
 ],
 "metadata": {
  "kernelspec": {
   "display_name": "Python 3",
   "language": "python",
   "name": "python3"
  },
  "language_info": {
   "codemirror_mode": {
    "name": "ipython",
    "version": 3
   },
   "file_extension": ".py",
   "mimetype": "text/x-python",
   "name": "python",
   "nbconvert_exporter": "python",
   "pygments_lexer": "ipython3",
   "version": "3.7.6"
  }
 },
 "nbformat": 4,
 "nbformat_minor": 4
}
